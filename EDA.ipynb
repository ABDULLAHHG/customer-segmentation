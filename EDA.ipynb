{
 "cells": [
  {
   "cell_type": "code",
   "execution_count": 2,
   "id": "2a6cee20-41ce-40e8-82e1-df04bae8e17f",
   "metadata": {},
   "outputs": [],
   "source": [
    "import pandas as pd "
   ]
  },
  {
   "cell_type": "code",
   "execution_count": null,
   "id": "e4275fbe-f5d7-4395-9cf8-9247469e049d",
   "metadata": {},
   "outputs": [],
   "source": [
    "Online Retail.xlsx"
   ]
  },
  {
   "cell_type": "code",
   "execution_count": 6,
   "id": "06efa2c7-f752-42ef-9c87-d1b1fb8195df",
   "metadata": {},
   "outputs": [
    {
     "name": "stdout",
     "output_type": "stream",
     "text": [
      "Collecting openpyxl\n",
      "  Obtaining dependency information for openpyxl from https://files.pythonhosted.org/packages/6a/94/a59521de836ef0da54aaf50da6c4da8fb4072fb3053fa71f052fd9399e7a/openpyxl-3.1.2-py2.py3-none-any.whl.metadata\n",
      "  Downloading openpyxl-3.1.2-py2.py3-none-any.whl.metadata (2.5 kB)\n",
      "Collecting et-xmlfile (from openpyxl)\n",
      "  Obtaining dependency information for et-xmlfile from https://files.pythonhosted.org/packages/96/c2/3dd434b0108730014f1b96fd286040dc3bcb70066346f7e01ec2ac95865f/et_xmlfile-1.1.0-py3-none-any.whl.metadata\n",
      "  Downloading et_xmlfile-1.1.0-py3-none-any.whl.metadata (1.8 kB)\n",
      "Downloading openpyxl-3.1.2-py2.py3-none-any.whl (249 kB)\n",
      "\u001b[2K   \u001b[90m━━━━━━━━━━━━━━━━━━━━━━━━━━━━━━━━━━━━━━━━\u001b[0m \u001b[32m250.0/250.0 kB\u001b[0m \u001b[31m1.4 MB/s\u001b[0m eta \u001b[36m0:00:00\u001b[0m00:01\u001b[0m00:01\u001b[0m\n",
      "\u001b[?25hDownloading et_xmlfile-1.1.0-py3-none-any.whl (4.7 kB)\n",
      "Installing collected packages: et-xmlfile, openpyxl\n",
      "Successfully installed et-xmlfile-1.1.0 openpyxl-3.1.2\n"
     ]
    }
   ],
   "source": [
    "!pip install openpyxl"
   ]
  },
  {
   "cell_type": "code",
   "execution_count": 3,
   "id": "c2a2eb45-5b14-4708-af12-50cff879a8a3",
   "metadata": {},
   "outputs": [],
   "source": [
    "df = pd.read_excel(\"Online Retail.xlsx\")"
   ]
  },
  {
   "cell_type": "code",
   "execution_count": 4,
   "id": "4072ad92-f57e-4cab-a538-eecf982bed8e",
   "metadata": {},
   "outputs": [],
   "source": [
    "df = df.samples(5000)\n",
    "df.isna().sum()\n",
    "df = df.dropna()"
   ]
  },
  {
   "cell_type": "code",
   "execution_count": 4,
   "id": "c0473a37-d4bc-4a4c-ae7d-e520e4186942",
   "metadata": {},
   "outputs": [
    {
     "data": {
      "text/html": [
       "<div>\n",
       "<style scoped>\n",
       "    .dataframe tbody tr th:only-of-type {\n",
       "        vertical-align: middle;\n",
       "    }\n",
       "\n",
       "    .dataframe tbody tr th {\n",
       "        vertical-align: top;\n",
       "    }\n",
       "\n",
       "    .dataframe thead th {\n",
       "        text-align: right;\n",
       "    }\n",
       "</style>\n",
       "<table border=\"1\" class=\"dataframe\">\n",
       "  <thead>\n",
       "    <tr style=\"text-align: right;\">\n",
       "      <th></th>\n",
       "      <th>InvoiceNo</th>\n",
       "      <th>StockCode</th>\n",
       "      <th>Description</th>\n",
       "      <th>Quantity</th>\n",
       "      <th>InvoiceDate</th>\n",
       "      <th>UnitPrice</th>\n",
       "      <th>CustomerID</th>\n",
       "      <th>Country</th>\n",
       "    </tr>\n",
       "  </thead>\n",
       "  <tbody>\n",
       "    <tr>\n",
       "      <th>0</th>\n",
       "      <td>536365</td>\n",
       "      <td>85123A</td>\n",
       "      <td>WHITE HANGING HEART T-LIGHT HOLDER</td>\n",
       "      <td>6</td>\n",
       "      <td>2010-12-01 08:26:00</td>\n",
       "      <td>2.55</td>\n",
       "      <td>17850.0</td>\n",
       "      <td>United Kingdom</td>\n",
       "    </tr>\n",
       "    <tr>\n",
       "      <th>1</th>\n",
       "      <td>536365</td>\n",
       "      <td>71053</td>\n",
       "      <td>WHITE METAL LANTERN</td>\n",
       "      <td>6</td>\n",
       "      <td>2010-12-01 08:26:00</td>\n",
       "      <td>3.39</td>\n",
       "      <td>17850.0</td>\n",
       "      <td>United Kingdom</td>\n",
       "    </tr>\n",
       "    <tr>\n",
       "      <th>2</th>\n",
       "      <td>536365</td>\n",
       "      <td>84406B</td>\n",
       "      <td>CREAM CUPID HEARTS COAT HANGER</td>\n",
       "      <td>8</td>\n",
       "      <td>2010-12-01 08:26:00</td>\n",
       "      <td>2.75</td>\n",
       "      <td>17850.0</td>\n",
       "      <td>United Kingdom</td>\n",
       "    </tr>\n",
       "    <tr>\n",
       "      <th>3</th>\n",
       "      <td>536365</td>\n",
       "      <td>84029G</td>\n",
       "      <td>KNITTED UNION FLAG HOT WATER BOTTLE</td>\n",
       "      <td>6</td>\n",
       "      <td>2010-12-01 08:26:00</td>\n",
       "      <td>3.39</td>\n",
       "      <td>17850.0</td>\n",
       "      <td>United Kingdom</td>\n",
       "    </tr>\n",
       "    <tr>\n",
       "      <th>4</th>\n",
       "      <td>536365</td>\n",
       "      <td>84029E</td>\n",
       "      <td>RED WOOLLY HOTTIE WHITE HEART.</td>\n",
       "      <td>6</td>\n",
       "      <td>2010-12-01 08:26:00</td>\n",
       "      <td>3.39</td>\n",
       "      <td>17850.0</td>\n",
       "      <td>United Kingdom</td>\n",
       "    </tr>\n",
       "    <tr>\n",
       "      <th>...</th>\n",
       "      <td>...</td>\n",
       "      <td>...</td>\n",
       "      <td>...</td>\n",
       "      <td>...</td>\n",
       "      <td>...</td>\n",
       "      <td>...</td>\n",
       "      <td>...</td>\n",
       "      <td>...</td>\n",
       "    </tr>\n",
       "    <tr>\n",
       "      <th>541904</th>\n",
       "      <td>581587</td>\n",
       "      <td>22613</td>\n",
       "      <td>PACK OF 20 SPACEBOY NAPKINS</td>\n",
       "      <td>12</td>\n",
       "      <td>2011-12-09 12:50:00</td>\n",
       "      <td>0.85</td>\n",
       "      <td>12680.0</td>\n",
       "      <td>France</td>\n",
       "    </tr>\n",
       "    <tr>\n",
       "      <th>541905</th>\n",
       "      <td>581587</td>\n",
       "      <td>22899</td>\n",
       "      <td>CHILDREN'S APRON DOLLY GIRL</td>\n",
       "      <td>6</td>\n",
       "      <td>2011-12-09 12:50:00</td>\n",
       "      <td>2.10</td>\n",
       "      <td>12680.0</td>\n",
       "      <td>France</td>\n",
       "    </tr>\n",
       "    <tr>\n",
       "      <th>541906</th>\n",
       "      <td>581587</td>\n",
       "      <td>23254</td>\n",
       "      <td>CHILDRENS CUTLERY DOLLY GIRL</td>\n",
       "      <td>4</td>\n",
       "      <td>2011-12-09 12:50:00</td>\n",
       "      <td>4.15</td>\n",
       "      <td>12680.0</td>\n",
       "      <td>France</td>\n",
       "    </tr>\n",
       "    <tr>\n",
       "      <th>541907</th>\n",
       "      <td>581587</td>\n",
       "      <td>23255</td>\n",
       "      <td>CHILDRENS CUTLERY CIRCUS PARADE</td>\n",
       "      <td>4</td>\n",
       "      <td>2011-12-09 12:50:00</td>\n",
       "      <td>4.15</td>\n",
       "      <td>12680.0</td>\n",
       "      <td>France</td>\n",
       "    </tr>\n",
       "    <tr>\n",
       "      <th>541908</th>\n",
       "      <td>581587</td>\n",
       "      <td>22138</td>\n",
       "      <td>BAKING SET 9 PIECE RETROSPOT</td>\n",
       "      <td>3</td>\n",
       "      <td>2011-12-09 12:50:00</td>\n",
       "      <td>4.95</td>\n",
       "      <td>12680.0</td>\n",
       "      <td>France</td>\n",
       "    </tr>\n",
       "  </tbody>\n",
       "</table>\n",
       "<p>406829 rows × 8 columns</p>\n",
       "</div>"
      ],
      "text/plain": [
       "       InvoiceNo StockCode                          Description  Quantity  \\\n",
       "0         536365    85123A   WHITE HANGING HEART T-LIGHT HOLDER         6   \n",
       "1         536365     71053                  WHITE METAL LANTERN         6   \n",
       "2         536365    84406B       CREAM CUPID HEARTS COAT HANGER         8   \n",
       "3         536365    84029G  KNITTED UNION FLAG HOT WATER BOTTLE         6   \n",
       "4         536365    84029E       RED WOOLLY HOTTIE WHITE HEART.         6   \n",
       "...          ...       ...                                  ...       ...   \n",
       "541904    581587     22613          PACK OF 20 SPACEBOY NAPKINS        12   \n",
       "541905    581587     22899         CHILDREN'S APRON DOLLY GIRL          6   \n",
       "541906    581587     23254        CHILDRENS CUTLERY DOLLY GIRL          4   \n",
       "541907    581587     23255      CHILDRENS CUTLERY CIRCUS PARADE         4   \n",
       "541908    581587     22138        BAKING SET 9 PIECE RETROSPOT          3   \n",
       "\n",
       "               InvoiceDate  UnitPrice  CustomerID         Country  \n",
       "0      2010-12-01 08:26:00       2.55     17850.0  United Kingdom  \n",
       "1      2010-12-01 08:26:00       3.39     17850.0  United Kingdom  \n",
       "2      2010-12-01 08:26:00       2.75     17850.0  United Kingdom  \n",
       "3      2010-12-01 08:26:00       3.39     17850.0  United Kingdom  \n",
       "4      2010-12-01 08:26:00       3.39     17850.0  United Kingdom  \n",
       "...                    ...        ...         ...             ...  \n",
       "541904 2011-12-09 12:50:00       0.85     12680.0          France  \n",
       "541905 2011-12-09 12:50:00       2.10     12680.0          France  \n",
       "541906 2011-12-09 12:50:00       4.15     12680.0          France  \n",
       "541907 2011-12-09 12:50:00       4.15     12680.0          France  \n",
       "541908 2011-12-09 12:50:00       4.95     12680.0          France  \n",
       "\n",
       "[406829 rows x 8 columns]"
      ]
     },
     "execution_count": 4,
     "metadata": {},
     "output_type": "execute_result"
    }
   ],
   "source": [
    "# df"
   ]
  },
  {
   "cell_type": "code",
   "execution_count": 29,
   "id": "014ffd45-afea-4a63-8ff7-e0ace7136a45",
   "metadata": {},
   "outputs": [],
   "source": [
    "# import plotly.graph_objects as go\n",
    "\n",
    "# y = df.Country.value_counts()[:10]\n",
    "# x = df.Country.value_counts().index[:10]\n",
    "# # Create a bar plot\n",
    "# fig = go.Figure(data=go.Bar(x=x, y=y))\n",
    "\n",
    "# # Customize the layout\n",
    "# fig.update_layout(plot_bgcolor = \"white\",\n",
    "#               font = dict(color = \"#909497\", size = 18),\n",
    "#               title = dict(text = \"Top 10 Country\", \n",
    "#               font = dict(size = 26)),\n",
    "#               margin = dict(t = 100, r = 80, b = 80, l = 120),\n",
    "#               hovermode=\"closest\",\n",
    "#               height = 1200,\n",
    "#               width = 1000)\n",
    "\n",
    "\n",
    "# # Show the plot\n",
    "# fig.show()"
   ]
  },
  {
   "cell_type": "code",
   "execution_count": 33,
   "id": "9b92e91b-ad81-48b1-85b5-9a4fa4ab050a",
   "metadata": {},
   "outputs": [],
   "source": [
    "# import plotly.graph_objects as go\n",
    "\n",
    "# y = df.CustomerID.value_counts().values[:10]\n",
    "# x = df.CustomerID.value_counts().index[:10]\n",
    "# # Create a bar plot\n",
    "# fig = go.Figure(data=go.Bar(x=x, y=y))\n",
    "\n",
    "# # Customize the layout\n",
    "# fig.update_layout(plot_bgcolor = \"white\",\n",
    "#               font = dict(color = \"#909497\", size = 18),\n",
    "#               title = dict(text = \"Top 10 Customer\", \n",
    "#               font = dict(size = 26)),\n",
    "#               margin = dict(t = 100, r = 80, b = 80, l = 120),\n",
    "#               hovermode=\"closest\",\n",
    "#               height = 1200,\n",
    "#               width = 1000)\n",
    "\n",
    "\n",
    "# # Show the plot\n",
    "# fig.show()"
   ]
  },
  {
   "cell_type": "code",
   "execution_count": 24,
   "id": "35aa04ae-96b9-42bc-bec2-269dd813eda6",
   "metadata": {},
   "outputs": [],
   "source": [
    "### Feature Extruct "
   ]
  },
  {
   "cell_type": "code",
   "execution_count": 5,
   "id": "dd0279b6-84db-4323-8c26-8510ef712e48",
   "metadata": {},
   "outputs": [
    {
     "data": {
      "text/html": [
       "<div>\n",
       "<style scoped>\n",
       "    .dataframe tbody tr th:only-of-type {\n",
       "        vertical-align: middle;\n",
       "    }\n",
       "\n",
       "    .dataframe tbody tr th {\n",
       "        vertical-align: top;\n",
       "    }\n",
       "\n",
       "    .dataframe thead th {\n",
       "        text-align: right;\n",
       "    }\n",
       "</style>\n",
       "<table border=\"1\" class=\"dataframe\">\n",
       "  <thead>\n",
       "    <tr style=\"text-align: right;\">\n",
       "      <th></th>\n",
       "      <th>InvoiceNo</th>\n",
       "      <th>StockCode</th>\n",
       "      <th>Description</th>\n",
       "      <th>Quantity</th>\n",
       "      <th>InvoiceDate</th>\n",
       "      <th>UnitPrice</th>\n",
       "      <th>CustomerID</th>\n",
       "      <th>Country</th>\n",
       "    </tr>\n",
       "  </thead>\n",
       "  <tbody>\n",
       "    <tr>\n",
       "      <th>0</th>\n",
       "      <td>536365</td>\n",
       "      <td>85123A</td>\n",
       "      <td>WHITE HANGING HEART T-LIGHT HOLDER</td>\n",
       "      <td>6</td>\n",
       "      <td>2010-12-01 08:26:00</td>\n",
       "      <td>2.55</td>\n",
       "      <td>17850.0</td>\n",
       "      <td>United Kingdom</td>\n",
       "    </tr>\n",
       "    <tr>\n",
       "      <th>1</th>\n",
       "      <td>536365</td>\n",
       "      <td>71053</td>\n",
       "      <td>WHITE METAL LANTERN</td>\n",
       "      <td>6</td>\n",
       "      <td>2010-12-01 08:26:00</td>\n",
       "      <td>3.39</td>\n",
       "      <td>17850.0</td>\n",
       "      <td>United Kingdom</td>\n",
       "    </tr>\n",
       "    <tr>\n",
       "      <th>2</th>\n",
       "      <td>536365</td>\n",
       "      <td>84406B</td>\n",
       "      <td>CREAM CUPID HEARTS COAT HANGER</td>\n",
       "      <td>8</td>\n",
       "      <td>2010-12-01 08:26:00</td>\n",
       "      <td>2.75</td>\n",
       "      <td>17850.0</td>\n",
       "      <td>United Kingdom</td>\n",
       "    </tr>\n",
       "    <tr>\n",
       "      <th>3</th>\n",
       "      <td>536365</td>\n",
       "      <td>84029G</td>\n",
       "      <td>KNITTED UNION FLAG HOT WATER BOTTLE</td>\n",
       "      <td>6</td>\n",
       "      <td>2010-12-01 08:26:00</td>\n",
       "      <td>3.39</td>\n",
       "      <td>17850.0</td>\n",
       "      <td>United Kingdom</td>\n",
       "    </tr>\n",
       "    <tr>\n",
       "      <th>4</th>\n",
       "      <td>536365</td>\n",
       "      <td>84029E</td>\n",
       "      <td>RED WOOLLY HOTTIE WHITE HEART.</td>\n",
       "      <td>6</td>\n",
       "      <td>2010-12-01 08:26:00</td>\n",
       "      <td>3.39</td>\n",
       "      <td>17850.0</td>\n",
       "      <td>United Kingdom</td>\n",
       "    </tr>\n",
       "    <tr>\n",
       "      <th>...</th>\n",
       "      <td>...</td>\n",
       "      <td>...</td>\n",
       "      <td>...</td>\n",
       "      <td>...</td>\n",
       "      <td>...</td>\n",
       "      <td>...</td>\n",
       "      <td>...</td>\n",
       "      <td>...</td>\n",
       "    </tr>\n",
       "    <tr>\n",
       "      <th>4995</th>\n",
       "      <td>536836</td>\n",
       "      <td>21843</td>\n",
       "      <td>RED RETROSPOT CAKE STAND</td>\n",
       "      <td>2</td>\n",
       "      <td>2010-12-02 18:08:00</td>\n",
       "      <td>10.95</td>\n",
       "      <td>18168.0</td>\n",
       "      <td>United Kingdom</td>\n",
       "    </tr>\n",
       "    <tr>\n",
       "      <th>4996</th>\n",
       "      <td>536836</td>\n",
       "      <td>21531</td>\n",
       "      <td>RED RETROSPOT SUGAR JAM BOWL</td>\n",
       "      <td>2</td>\n",
       "      <td>2010-12-02 18:08:00</td>\n",
       "      <td>2.55</td>\n",
       "      <td>18168.0</td>\n",
       "      <td>United Kingdom</td>\n",
       "    </tr>\n",
       "    <tr>\n",
       "      <th>4997</th>\n",
       "      <td>536836</td>\n",
       "      <td>21539</td>\n",
       "      <td>RED RETROSPOT BUTTER DISH</td>\n",
       "      <td>3</td>\n",
       "      <td>2010-12-02 18:08:00</td>\n",
       "      <td>4.95</td>\n",
       "      <td>18168.0</td>\n",
       "      <td>United Kingdom</td>\n",
       "    </tr>\n",
       "    <tr>\n",
       "      <th>4998</th>\n",
       "      <td>536836</td>\n",
       "      <td>22198</td>\n",
       "      <td>LARGE POPCORN HOLDER</td>\n",
       "      <td>2</td>\n",
       "      <td>2010-12-02 18:08:00</td>\n",
       "      <td>1.65</td>\n",
       "      <td>18168.0</td>\n",
       "      <td>United Kingdom</td>\n",
       "    </tr>\n",
       "    <tr>\n",
       "      <th>4999</th>\n",
       "      <td>536836</td>\n",
       "      <td>22197</td>\n",
       "      <td>SMALL POPCORN HOLDER</td>\n",
       "      <td>2</td>\n",
       "      <td>2010-12-02 18:08:00</td>\n",
       "      <td>0.85</td>\n",
       "      <td>18168.0</td>\n",
       "      <td>United Kingdom</td>\n",
       "    </tr>\n",
       "  </tbody>\n",
       "</table>\n",
       "<p>3795 rows × 8 columns</p>\n",
       "</div>"
      ],
      "text/plain": [
       "     InvoiceNo StockCode                          Description  Quantity  \\\n",
       "0       536365    85123A   WHITE HANGING HEART T-LIGHT HOLDER         6   \n",
       "1       536365     71053                  WHITE METAL LANTERN         6   \n",
       "2       536365    84406B       CREAM CUPID HEARTS COAT HANGER         8   \n",
       "3       536365    84029G  KNITTED UNION FLAG HOT WATER BOTTLE         6   \n",
       "4       536365    84029E       RED WOOLLY HOTTIE WHITE HEART.         6   \n",
       "...        ...       ...                                  ...       ...   \n",
       "4995    536836     21843             RED RETROSPOT CAKE STAND         2   \n",
       "4996    536836     21531         RED RETROSPOT SUGAR JAM BOWL         2   \n",
       "4997    536836     21539            RED RETROSPOT BUTTER DISH         3   \n",
       "4998    536836     22198                LARGE POPCORN HOLDER          2   \n",
       "4999    536836     22197                 SMALL POPCORN HOLDER         2   \n",
       "\n",
       "             InvoiceDate  UnitPrice  CustomerID         Country  \n",
       "0    2010-12-01 08:26:00       2.55     17850.0  United Kingdom  \n",
       "1    2010-12-01 08:26:00       3.39     17850.0  United Kingdom  \n",
       "2    2010-12-01 08:26:00       2.75     17850.0  United Kingdom  \n",
       "3    2010-12-01 08:26:00       3.39     17850.0  United Kingdom  \n",
       "4    2010-12-01 08:26:00       3.39     17850.0  United Kingdom  \n",
       "...                  ...        ...         ...             ...  \n",
       "4995 2010-12-02 18:08:00      10.95     18168.0  United Kingdom  \n",
       "4996 2010-12-02 18:08:00       2.55     18168.0  United Kingdom  \n",
       "4997 2010-12-02 18:08:00       4.95     18168.0  United Kingdom  \n",
       "4998 2010-12-02 18:08:00       1.65     18168.0  United Kingdom  \n",
       "4999 2010-12-02 18:08:00       0.85     18168.0  United Kingdom  \n",
       "\n",
       "[3795 rows x 8 columns]"
      ]
     },
     "execution_count": 5,
     "metadata": {},
     "output_type": "execute_result"
    }
   ],
   "source": [
    "df"
   ]
  },
  {
   "cell_type": "code",
   "execution_count": 6,
   "id": "eaf8d643-0158-4fd8-bb52-1c91c9dc5570",
   "metadata": {},
   "outputs": [],
   "source": [
    "df[\"Total Price\"] = df.Quantity * df.UnitPrice \n"
   ]
  },
  {
   "cell_type": "code",
   "execution_count": 6,
   "id": "982dde8b-e165-4044-8fc1-79339f063568",
   "metadata": {
    "scrolled": true
   },
   "outputs": [
    {
     "data": {
      "text/plain": [
       "CustomerID\n",
       "17841.0    7983\n",
       "14911.0    5903\n",
       "14096.0    5128\n",
       "12748.0    4642\n",
       "14606.0    2782\n",
       "           ... \n",
       "15070.0       1\n",
       "15753.0       1\n",
       "17065.0       1\n",
       "16881.0       1\n",
       "16995.0       1\n",
       "Name: count, Length: 4372, dtype: int64"
      ]
     },
     "execution_count": 6,
     "metadata": {},
     "output_type": "execute_result"
    }
   ],
   "source": [
    "df.CustomerID.value_counts()"
   ]
  },
  {
   "cell_type": "code",
   "execution_count": 16,
   "id": "0e7764d1-362f-418c-ab29-dc5b205cb153",
   "metadata": {},
   "outputs": [],
   "source": [
    "Data = pd.get_dummies(df.drop([\"InvoiceNo\" , \"StockCode\" , \"Description\" ,\"InvoiceDate\"] , axis = 1) , \"Country\")"
   ]
  },
  {
   "cell_type": "code",
   "execution_count": 9,
   "id": "544aa2cd-23a7-4a5e-929b-69ea729259bc",
   "metadata": {},
   "outputs": [
    {
     "data": {
      "text/plain": [
       "InvoiceNo              object\n",
       "StockCode              object\n",
       "Description            object\n",
       "Quantity                int64\n",
       "InvoiceDate    datetime64[ns]\n",
       "UnitPrice             float64\n",
       "CustomerID            float64\n",
       "Country                object\n",
       "Total Price           float64\n",
       "dtype: object"
      ]
     },
     "execution_count": 9,
     "metadata": {},
     "output_type": "execute_result"
    }
   ],
   "source": [
    "df.dtypes"
   ]
  },
  {
   "cell_type": "code",
   "execution_count": 13,
   "id": "fd27e1fb-29b9-43a0-85fe-e197efd4e6b9",
   "metadata": {},
   "outputs": [
    {
     "data": {
      "text/html": [
       "<div>\n",
       "<style scoped>\n",
       "    .dataframe tbody tr th:only-of-type {\n",
       "        vertical-align: middle;\n",
       "    }\n",
       "\n",
       "    .dataframe tbody tr th {\n",
       "        vertical-align: top;\n",
       "    }\n",
       "\n",
       "    .dataframe thead th {\n",
       "        text-align: right;\n",
       "    }\n",
       "</style>\n",
       "<table border=\"1\" class=\"dataframe\">\n",
       "  <thead>\n",
       "    <tr style=\"text-align: right;\">\n",
       "      <th></th>\n",
       "      <th>Quantity</th>\n",
       "      <th>UnitPrice</th>\n",
       "      <th>CustomerID</th>\n",
       "      <th>Total Price</th>\n",
       "    </tr>\n",
       "  </thead>\n",
       "  <tbody>\n",
       "    <tr>\n",
       "      <th>Quantity</th>\n",
       "      <td>1.000000</td>\n",
       "      <td>-0.001238</td>\n",
       "      <td>-0.003600</td>\n",
       "      <td>0.916096</td>\n",
       "    </tr>\n",
       "    <tr>\n",
       "      <th>UnitPrice</th>\n",
       "      <td>-0.001238</td>\n",
       "      <td>1.000000</td>\n",
       "      <td>-0.004560</td>\n",
       "      <td>-0.129296</td>\n",
       "    </tr>\n",
       "    <tr>\n",
       "      <th>CustomerID</th>\n",
       "      <td>-0.003600</td>\n",
       "      <td>-0.004560</td>\n",
       "      <td>1.000000</td>\n",
       "      <td>-0.002274</td>\n",
       "    </tr>\n",
       "    <tr>\n",
       "      <th>Total Price</th>\n",
       "      <td>0.916096</td>\n",
       "      <td>-0.129296</td>\n",
       "      <td>-0.002274</td>\n",
       "      <td>1.000000</td>\n",
       "    </tr>\n",
       "  </tbody>\n",
       "</table>\n",
       "</div>"
      ],
      "text/plain": [
       "             Quantity  UnitPrice  CustomerID  Total Price\n",
       "Quantity     1.000000  -0.001238   -0.003600     0.916096\n",
       "UnitPrice   -0.001238   1.000000   -0.004560    -0.129296\n",
       "CustomerID  -0.003600  -0.004560    1.000000    -0.002274\n",
       "Total Price  0.916096  -0.129296   -0.002274     1.000000"
      ]
     },
     "execution_count": 13,
     "metadata": {},
     "output_type": "execute_result"
    }
   ],
   "source": [
    "df.select_dtypes([\"int64\",\"float64\"]).corr()"
   ]
  },
  {
   "cell_type": "code",
   "execution_count": 17,
   "id": "f1dec221-885b-431c-a5e8-ad11c4b375b0",
   "metadata": {},
   "outputs": [
    {
     "data": {
      "text/html": [
       "<div>\n",
       "<style scoped>\n",
       "    .dataframe tbody tr th:only-of-type {\n",
       "        vertical-align: middle;\n",
       "    }\n",
       "\n",
       "    .dataframe tbody tr th {\n",
       "        vertical-align: top;\n",
       "    }\n",
       "\n",
       "    .dataframe thead th {\n",
       "        text-align: right;\n",
       "    }\n",
       "</style>\n",
       "<table border=\"1\" class=\"dataframe\">\n",
       "  <thead>\n",
       "    <tr style=\"text-align: right;\">\n",
       "      <th></th>\n",
       "      <th>Quantity</th>\n",
       "      <th>UnitPrice</th>\n",
       "      <th>CustomerID</th>\n",
       "      <th>Total Price</th>\n",
       "      <th>Country_Australia</th>\n",
       "      <th>Country_EIRE</th>\n",
       "      <th>Country_France</th>\n",
       "      <th>Country_Germany</th>\n",
       "      <th>Country_Netherlands</th>\n",
       "      <th>Country_Norway</th>\n",
       "      <th>Country_United Kingdom</th>\n",
       "    </tr>\n",
       "  </thead>\n",
       "  <tbody>\n",
       "    <tr>\n",
       "      <th>Quantity</th>\n",
       "      <td>1.000000</td>\n",
       "      <td>-0.011720</td>\n",
       "      <td>-0.020143</td>\n",
       "      <td>0.298692</td>\n",
       "      <td>-0.001348</td>\n",
       "      <td>-0.000496</td>\n",
       "      <td>0.004870</td>\n",
       "      <td>-0.004022</td>\n",
       "      <td>0.005134</td>\n",
       "      <td>0.011829</td>\n",
       "      <td>-0.007980</td>\n",
       "    </tr>\n",
       "    <tr>\n",
       "      <th>UnitPrice</th>\n",
       "      <td>-0.011720</td>\n",
       "      <td>1.000000</td>\n",
       "      <td>-0.015008</td>\n",
       "      <td>0.098769</td>\n",
       "      <td>0.019766</td>\n",
       "      <td>0.035299</td>\n",
       "      <td>-0.004739</td>\n",
       "      <td>0.003135</td>\n",
       "      <td>0.018665</td>\n",
       "      <td>-0.038617</td>\n",
       "      <td>0.004659</td>\n",
       "    </tr>\n",
       "    <tr>\n",
       "      <th>CustomerID</th>\n",
       "      <td>-0.020143</td>\n",
       "      <td>-0.015008</td>\n",
       "      <td>1.000000</td>\n",
       "      <td>-0.086984</td>\n",
       "      <td>-0.122108</td>\n",
       "      <td>-0.048746</td>\n",
       "      <td>-0.139674</td>\n",
       "      <td>-0.172119</td>\n",
       "      <td>-0.041306</td>\n",
       "      <td>-0.280870</td>\n",
       "      <td>0.375585</td>\n",
       "    </tr>\n",
       "    <tr>\n",
       "      <th>Total Price</th>\n",
       "      <td>0.298692</td>\n",
       "      <td>0.098769</td>\n",
       "      <td>-0.086984</td>\n",
       "      <td>1.000000</td>\n",
       "      <td>0.001850</td>\n",
       "      <td>0.000311</td>\n",
       "      <td>0.020409</td>\n",
       "      <td>-0.025197</td>\n",
       "      <td>0.024293</td>\n",
       "      <td>0.005682</td>\n",
       "      <td>-0.003557</td>\n",
       "    </tr>\n",
       "    <tr>\n",
       "      <th>Country_Australia</th>\n",
       "      <td>-0.001348</td>\n",
       "      <td>0.019766</td>\n",
       "      <td>-0.122108</td>\n",
       "      <td>0.001850</td>\n",
       "      <td>1.000000</td>\n",
       "      <td>-0.004854</td>\n",
       "      <td>-0.004429</td>\n",
       "      <td>-0.005432</td>\n",
       "      <td>-0.001397</td>\n",
       "      <td>-0.008522</td>\n",
       "      <td>-0.287237</td>\n",
       "    </tr>\n",
       "    <tr>\n",
       "      <th>Country_EIRE</th>\n",
       "      <td>-0.000496</td>\n",
       "      <td>0.035299</td>\n",
       "      <td>-0.048746</td>\n",
       "      <td>0.000311</td>\n",
       "      <td>-0.004854</td>\n",
       "      <td>1.000000</td>\n",
       "      <td>-0.005807</td>\n",
       "      <td>-0.007121</td>\n",
       "      <td>-0.001832</td>\n",
       "      <td>-0.011173</td>\n",
       "      <td>-0.376579</td>\n",
       "    </tr>\n",
       "    <tr>\n",
       "      <th>Country_France</th>\n",
       "      <td>0.004870</td>\n",
       "      <td>-0.004739</td>\n",
       "      <td>-0.139674</td>\n",
       "      <td>0.020409</td>\n",
       "      <td>-0.004429</td>\n",
       "      <td>-0.005807</td>\n",
       "      <td>1.000000</td>\n",
       "      <td>-0.006497</td>\n",
       "      <td>-0.001671</td>\n",
       "      <td>-0.010194</td>\n",
       "      <td>-0.343586</td>\n",
       "    </tr>\n",
       "    <tr>\n",
       "      <th>Country_Germany</th>\n",
       "      <td>-0.004022</td>\n",
       "      <td>0.003135</td>\n",
       "      <td>-0.172119</td>\n",
       "      <td>-0.025197</td>\n",
       "      <td>-0.005432</td>\n",
       "      <td>-0.007121</td>\n",
       "      <td>-0.006497</td>\n",
       "      <td>1.000000</td>\n",
       "      <td>-0.002050</td>\n",
       "      <td>-0.012501</td>\n",
       "      <td>-0.421364</td>\n",
       "    </tr>\n",
       "    <tr>\n",
       "      <th>Country_Netherlands</th>\n",
       "      <td>0.005134</td>\n",
       "      <td>0.018665</td>\n",
       "      <td>-0.041306</td>\n",
       "      <td>0.024293</td>\n",
       "      <td>-0.001397</td>\n",
       "      <td>-0.001832</td>\n",
       "      <td>-0.001671</td>\n",
       "      <td>-0.002050</td>\n",
       "      <td>1.000000</td>\n",
       "      <td>-0.003216</td>\n",
       "      <td>-0.108393</td>\n",
       "    </tr>\n",
       "    <tr>\n",
       "      <th>Country_Norway</th>\n",
       "      <td>0.011829</td>\n",
       "      <td>-0.038617</td>\n",
       "      <td>-0.280870</td>\n",
       "      <td>0.005682</td>\n",
       "      <td>-0.008522</td>\n",
       "      <td>-0.011173</td>\n",
       "      <td>-0.010194</td>\n",
       "      <td>-0.012501</td>\n",
       "      <td>-0.003216</td>\n",
       "      <td>1.000000</td>\n",
       "      <td>-0.661077</td>\n",
       "    </tr>\n",
       "    <tr>\n",
       "      <th>Country_United Kingdom</th>\n",
       "      <td>-0.007980</td>\n",
       "      <td>0.004659</td>\n",
       "      <td>0.375585</td>\n",
       "      <td>-0.003557</td>\n",
       "      <td>-0.287237</td>\n",
       "      <td>-0.376579</td>\n",
       "      <td>-0.343586</td>\n",
       "      <td>-0.421364</td>\n",
       "      <td>-0.108393</td>\n",
       "      <td>-0.661077</td>\n",
       "      <td>1.000000</td>\n",
       "    </tr>\n",
       "  </tbody>\n",
       "</table>\n",
       "</div>"
      ],
      "text/plain": [
       "                        Quantity  UnitPrice  CustomerID  Total Price  \\\n",
       "Quantity                1.000000  -0.011720   -0.020143     0.298692   \n",
       "UnitPrice              -0.011720   1.000000   -0.015008     0.098769   \n",
       "CustomerID             -0.020143  -0.015008    1.000000    -0.086984   \n",
       "Total Price             0.298692   0.098769   -0.086984     1.000000   \n",
       "Country_Australia      -0.001348   0.019766   -0.122108     0.001850   \n",
       "Country_EIRE           -0.000496   0.035299   -0.048746     0.000311   \n",
       "Country_France          0.004870  -0.004739   -0.139674     0.020409   \n",
       "Country_Germany        -0.004022   0.003135   -0.172119    -0.025197   \n",
       "Country_Netherlands     0.005134   0.018665   -0.041306     0.024293   \n",
       "Country_Norway          0.011829  -0.038617   -0.280870     0.005682   \n",
       "Country_United Kingdom -0.007980   0.004659    0.375585    -0.003557   \n",
       "\n",
       "                        Country_Australia  Country_EIRE  Country_France  \\\n",
       "Quantity                        -0.001348     -0.000496        0.004870   \n",
       "UnitPrice                        0.019766      0.035299       -0.004739   \n",
       "CustomerID                      -0.122108     -0.048746       -0.139674   \n",
       "Total Price                      0.001850      0.000311        0.020409   \n",
       "Country_Australia                1.000000     -0.004854       -0.004429   \n",
       "Country_EIRE                    -0.004854      1.000000       -0.005807   \n",
       "Country_France                  -0.004429     -0.005807        1.000000   \n",
       "Country_Germany                 -0.005432     -0.007121       -0.006497   \n",
       "Country_Netherlands             -0.001397     -0.001832       -0.001671   \n",
       "Country_Norway                  -0.008522     -0.011173       -0.010194   \n",
       "Country_United Kingdom          -0.287237     -0.376579       -0.343586   \n",
       "\n",
       "                        Country_Germany  Country_Netherlands  Country_Norway  \\\n",
       "Quantity                      -0.004022             0.005134        0.011829   \n",
       "UnitPrice                      0.003135             0.018665       -0.038617   \n",
       "CustomerID                    -0.172119            -0.041306       -0.280870   \n",
       "Total Price                   -0.025197             0.024293        0.005682   \n",
       "Country_Australia             -0.005432            -0.001397       -0.008522   \n",
       "Country_EIRE                  -0.007121            -0.001832       -0.011173   \n",
       "Country_France                -0.006497            -0.001671       -0.010194   \n",
       "Country_Germany                1.000000            -0.002050       -0.012501   \n",
       "Country_Netherlands           -0.002050             1.000000       -0.003216   \n",
       "Country_Norway                -0.012501            -0.003216        1.000000   \n",
       "Country_United Kingdom        -0.421364            -0.108393       -0.661077   \n",
       "\n",
       "                        Country_United Kingdom  \n",
       "Quantity                             -0.007980  \n",
       "UnitPrice                             0.004659  \n",
       "CustomerID                            0.375585  \n",
       "Total Price                          -0.003557  \n",
       "Country_Australia                    -0.287237  \n",
       "Country_EIRE                         -0.376579  \n",
       "Country_France                       -0.343586  \n",
       "Country_Germany                      -0.421364  \n",
       "Country_Netherlands                  -0.108393  \n",
       "Country_Norway                       -0.661077  \n",
       "Country_United Kingdom                1.000000  "
      ]
     },
     "execution_count": 17,
     "metadata": {},
     "output_type": "execute_result"
    }
   ],
   "source": [
    "Data.corr()"
   ]
  },
  {
   "cell_type": "code",
   "execution_count": 14,
   "id": "1c9977b2-690e-41b2-bfa7-d8d2b72cb84f",
   "metadata": {},
   "outputs": [],
   "source": [
    "from sklearn.decomposition import PCA "
   ]
  },
  {
   "cell_type": "code",
   "execution_count": 18,
   "id": "a831fe14-ff5e-452b-9b5f-0a16b06187d1",
   "metadata": {},
   "outputs": [],
   "source": [
    "dim_red = PCA()"
   ]
  },
  {
   "cell_type": "code",
   "execution_count": 20,
   "id": "a763caa0-6073-46cb-8612-2cc662d0e926",
   "metadata": {},
   "outputs": [],
   "source": [
    "new_data = dim_red.fit_transform(Data)"
   ]
  },
  {
   "cell_type": "code",
   "execution_count": 22,
   "id": "6a3cde40-1eb8-408d-9747-a34c2d78ce59",
   "metadata": {},
   "outputs": [
    {
     "data": {
      "text/plain": [
       "(3795, 11)"
      ]
     },
     "execution_count": 22,
     "metadata": {},
     "output_type": "execute_result"
    }
   ],
   "source": [
    "new_data.shape"
   ]
  },
  {
   "cell_type": "code",
   "execution_count": 32,
   "id": "f7b288f8-6031-4165-890d-a53dd0eb4a20",
   "metadata": {},
   "outputs": [],
   "source": [
    "columns = dim_red.get_feature_names_out()"
   ]
  },
  {
   "cell_type": "code",
   "execution_count": 26,
   "id": "baaf5d70-a3ca-425e-94b7-eed026483829",
   "metadata": {},
   "outputs": [
    {
     "data": {
      "text/plain": [
       "array([0.99, 0.01, 0.  , 0.  , 0.  , 0.  , 0.  , 0.  , 0.  , 0.  , 0.  ])"
      ]
     },
     "execution_count": 26,
     "metadata": {},
     "output_type": "execute_result"
    }
   ],
   "source": [
    "dim_red.explained_variance_ratio_.round(2)"
   ]
  },
  {
   "cell_type": "code",
   "execution_count": 27,
   "id": "edb5727c-3680-4b3e-856c-2735804d057b",
   "metadata": {},
   "outputs": [],
   "source": [
    "import seaborn as sns "
   ]
  },
  {
   "cell_type": "code",
   "execution_count": 45,
   "id": "6a974b7b-18e5-436c-95a7-965a82cc7bd1",
   "metadata": {},
   "outputs": [
    {
     "data": {
      "text/plain": [
       "<seaborn.axisgrid.PairGrid at 0x7e24c830d0>"
      ]
     },
     "execution_count": 45,
     "metadata": {},
     "output_type": "execute_result"
    },
    {
     "data": {
      "image/png": "[encoded data removed]",
      "text/plain": [
       "<Figure size 500x500 with 6 Axes>"
      ]
     },
     "metadata": {},
     "output_type": "display_data"
    }
   ],
   "source": [
    "sns.pairplot(pd.DataFrame(new_data[: , :2] , columns = columns[:2]))"
   ]
  },
  {
   "cell_type": "code",
   "execution_count": 40,
   "id": "87767900-cbc3-4747-8a5d-450426dbdafb",
   "metadata": {},
   "outputs": [],
   "source": [
    "from sklearn.cluster import KMeans"
   ]
  },
  {
   "cell_type": "code",
   "execution_count": 46,
   "id": "6e1db51b-bf7a-47a6-b7ab-fce27e28cb91",
   "metadata": {},
   "outputs": [],
   "source": [
    "km = KMeans(2)"
   ]
  },
  {
   "cell_type": "code",
   "execution_count": 51,
   "id": "c327544d-6d07-418f-8d96-3d8ad059f04a",
   "metadata": {},
   "outputs": [],
   "source": [
    "x = km.fit(new_data)"
   ]
  },
  {
   "cell_type": "code",
   "execution_count": 50,
   "id": "b615b56a-560d-4cbf-8bd9-1ae5e5dfbdbc",
   "metadata": {},
   "outputs": [
    {
     "data": {
      "text/plain": [
       "(3795, 2)"
      ]
     },
     "execution_count": 50,
     "metadata": {},
     "output_type": "execute_result"
    }
   ],
   "source": [
    "x.shape"
   ]
  },
  {
   "cell_type": "code",
   "execution_count": 56,
   "id": "72f0887e-7748-46f8-b70c-4a646ad0d3d9",
   "metadata": {},
   "outputs": [],
   "source": [
    "predict = x.predict(new_data)"
   ]
  },
  {
   "cell_type": "code",
   "execution_count": 60,
   "id": "39de8de4-a932-4c5b-90bf-f14273d899e0",
   "metadata": {},
   "outputs": [
    {
     "data": {
      "text/plain": [
       "1"
      ]
     },
     "execution_count": 60,
     "metadata": {},
     "output_type": "execute_result"
    }
   ],
   "source": [
    "predict.max()"
   ]
  },
  {
   "cell_type": "code",
   "execution_count": 78,
   "id": "51a52635-e734-4109-8898-19e001f6db03",
   "metadata": {},
   "outputs": [
    {
     "data": {
      "text/plain": [
       "<Axes: >"
      ]
     },
     "execution_count": 78,
     "metadata": {},
     "output_type": "execute_result"
    },
    {
     "data": {
      "image/png": "[encoded data removed]",
      "text/plain": [
       "<Figure size 640x480 with 1 Axes>"
      ]
     },
     "metadata": {},
     "output_type": "display_data"
    }
   ],
   "source": [
    "sns.scatterplot(x = new_data[:,0] ,y = new_data[:,1] , hue = predict)\n"
   ]
  },
  {
   "cell_type": "code",
   "execution_count": 69,
   "id": "aa35fee7-a13b-4ebe-aeca-e1faec0951bb",
   "metadata": {},
   "outputs": [
    {
     "data": {
      "text/plain": [
       "(3795,)"
      ]
     },
     "execution_count": 69,
     "metadata": {},
     "output_type": "execute_result"
    }
   ],
   "source": [
    "new_data[:,0].shape"
   ]
  },
  {
   "cell_type": "code",
   "execution_count": 71,
   "id": "36d7ba86-4189-4b50-8efb-7ed7ff36a59f",
   "metadata": {},
   "outputs": [
    {
     "data": {
      "text/plain": [
       "(3795,)"
      ]
     },
     "execution_count": 71,
     "metadata": {},
     "output_type": "execute_result"
    }
   ],
   "source": [
    "predict.shape"
   ]
  },
  {
   "cell_type": "code",
   "execution_count": 80,
   "id": "7d3b3fe4-1fa9-40fd-b525-e956e7a18d3c",
   "metadata": {},
   "outputs": [
    {
     "data": {
      "text/plain": [
       "array([0, 0, 0, ..., 0, 0, 0], dtype=int32)"
      ]
     },
     "execution_count": 80,
     "metadata": {},
     "output_type": "execute_result"
    }
   ],
   "source": [
    "predict"
   ]
  },
  {
   "cell_type": "code",
   "execution_count": 81,
   "id": "1facef94-d980-4532-a0c2-0fd774e78092",
   "metadata": {},
   "outputs": [
    {
     "data": {
      "text/plain": [
       "3076866964.622415"
      ]
     },
     "execution_count": 81,
     "metadata": {},
     "output_type": "execute_result"
    }
   ],
   "source": [
    "km.inertia_"
   ]
  },
  {
   "cell_type": "code",
   "execution_count": 93,
   "id": "c3b488ac-c65a-4d50-95b3-b301509f89a4",
   "metadata": {},
   "outputs": [
    {
     "name": "stdout",
     "output_type": "stream",
     "text": [
      "1 - 11505292377.75\n",
      "2 - 3067254813.25\n",
      "3 - 1161180925.09\n",
      "4 - 626775739.41\n",
      "5 - 453811405.82\n",
      "6 - 347908581.06\n",
      "7 - 292044877.0\n",
      "8 - 201605127.56\n",
      "9 - 162440585.72\n",
      "10 - 139927369.22\n",
      "11 - 125668759.51\n",
      "12 - 110360395.24\n",
      "13 - 96810450.5\n",
      "14 - 80968037.3\n",
      "15 - 69318097.63\n",
      "16 - 69020245.65\n",
      "17 - 52692218.29\n",
      "18 - 51849859.09\n",
      "19 - 43819495.27\n"
     ]
    }
   ],
   "source": [
    "init = []\n",
    "for i in range(1,20):\n",
    "    km = KMeans(i)\n",
    "    km.fit(new_data)\n",
    "    print(f\"{i} - {round(km.inertia_ , 2)}\")\n",
    "    init.append(km.inertia_)\n",
    "    "
   ]
  },
  {
   "cell_type": "code",
   "execution_count": 88,
   "id": "0c669ae9-4fb4-4031-85e6-6a81eb630557",
   "metadata": {},
   "outputs": [],
   "source": [
    "import matplotlib.pyplot as plt "
   ]
  },
  {
   "cell_type": "code",
   "execution_count": 94,
   "id": "4e45a9b3-7887-4f61-96a8-25b95e413b22",
   "metadata": {},
   "outputs": [
    {
     "data": {
      "text/plain": [
       "[<matplotlib.lines.Line2D at 0x7e1a10ec50>]"
      ]
     },
     "execution_count": 94,
     "metadata": {},
     "output_type": "execute_result"
    },
    {
     "data": {
      "image/png": "[encoded data removed]",
      "text/plain": [
       "<Figure size 640x480 with 1 Axes>"
      ]
     },
     "metadata": {},
     "output_type": "display_data"
    }
   ],
   "source": [
    "plt.plot( range(1,20) , init)"
   ]
  },
  {
   "cell_type": "code",
   "execution_count": 95,
   "id": "c4ab7d70-740b-4f6d-9313-e27285786bef",
   "metadata": {},
   "outputs": [],
   "source": [
    "km = KMeans(5)\n",
    "km.fit(new_data)\n",
    "predict = km.predict(new_data)"
   ]
  },
  {
   "cell_type": "code",
   "execution_count": 97,
   "id": "24413ea0-8c60-4a2d-8406-20ad5226fc4b",
   "metadata": {},
   "outputs": [
    {
     "data": {
      "text/plain": [
       "<Axes: >"
      ]
     },
     "execution_count": 97,
     "metadata": {},
     "output_type": "execute_result"
    },
    {
     "data": {
      "image/png": "[encoded data removed]",
      "text/plain": [
       "<Figure size 640x480 with 1 Axes>"
      ]
     },
     "metadata": {},
     "output_type": "display_data"
    }
   ],
   "source": [
    "sns.scatterplot(x = new_data[:,0] ,y = new_data[:,1] , hue = predict)\n"
   ]
  },
  {
   "cell_type": "code",
   "execution_count": 98,
   "id": "625677a4-0bc4-40be-ad3f-915850725fcd",
   "metadata": {},
   "outputs": [
    {
     "data": {
      "text/html": [
       "<div>\n",
       "<style scoped>\n",
       "    .dataframe tbody tr th:only-of-type {\n",
       "        vertical-align: middle;\n",
       "    }\n",
       "\n",
       "    .dataframe tbody tr th {\n",
       "        vertical-align: top;\n",
       "    }\n",
       "\n",
       "    .dataframe thead th {\n",
       "        text-align: right;\n",
       "    }\n",
       "</style>\n",
       "<table border=\"1\" class=\"dataframe\">\n",
       "  <thead>\n",
       "    <tr style=\"text-align: right;\">\n",
       "      <th></th>\n",
       "      <th>InvoiceNo</th>\n",
       "      <th>StockCode</th>\n",
       "      <th>Description</th>\n",
       "      <th>Quantity</th>\n",
       "      <th>InvoiceDate</th>\n",
       "      <th>UnitPrice</th>\n",
       "      <th>CustomerID</th>\n",
       "      <th>Country</th>\n",
       "      <th>Total Price</th>\n",
       "    </tr>\n",
       "  </thead>\n",
       "  <tbody>\n",
       "    <tr>\n",
       "      <th>0</th>\n",
       "      <td>536365</td>\n",
       "      <td>85123A</td>\n",
       "      <td>WHITE HANGING HEART T-LIGHT HOLDER</td>\n",
       "      <td>6</td>\n",
       "      <td>2010-12-01 08:26:00</td>\n",
       "      <td>2.55</td>\n",
       "      <td>17850.0</td>\n",
       "      <td>United Kingdom</td>\n",
       "      <td>15.30</td>\n",
       "    </tr>\n",
       "    <tr>\n",
       "      <th>1</th>\n",
       "      <td>536365</td>\n",
       "      <td>71053</td>\n",
       "      <td>WHITE METAL LANTERN</td>\n",
       "      <td>6</td>\n",
       "      <td>2010-12-01 08:26:00</td>\n",
       "      <td>3.39</td>\n",
       "      <td>17850.0</td>\n",
       "      <td>United Kingdom</td>\n",
       "      <td>20.34</td>\n",
       "    </tr>\n",
       "    <tr>\n",
       "      <th>2</th>\n",
       "      <td>536365</td>\n",
       "      <td>84406B</td>\n",
       "      <td>CREAM CUPID HEARTS COAT HANGER</td>\n",
       "      <td>8</td>\n",
       "      <td>2010-12-01 08:26:00</td>\n",
       "      <td>2.75</td>\n",
       "      <td>17850.0</td>\n",
       "      <td>United Kingdom</td>\n",
       "      <td>22.00</td>\n",
       "    </tr>\n",
       "    <tr>\n",
       "      <th>3</th>\n",
       "      <td>536365</td>\n",
       "      <td>84029G</td>\n",
       "      <td>KNITTED UNION FLAG HOT WATER BOTTLE</td>\n",
       "      <td>6</td>\n",
       "      <td>2010-12-01 08:26:00</td>\n",
       "      <td>3.39</td>\n",
       "      <td>17850.0</td>\n",
       "      <td>United Kingdom</td>\n",
       "      <td>20.34</td>\n",
       "    </tr>\n",
       "    <tr>\n",
       "      <th>4</th>\n",
       "      <td>536365</td>\n",
       "      <td>84029E</td>\n",
       "      <td>RED WOOLLY HOTTIE WHITE HEART.</td>\n",
       "      <td>6</td>\n",
       "      <td>2010-12-01 08:26:00</td>\n",
       "      <td>3.39</td>\n",
       "      <td>17850.0</td>\n",
       "      <td>United Kingdom</td>\n",
       "      <td>20.34</td>\n",
       "    </tr>\n",
       "    <tr>\n",
       "      <th>...</th>\n",
       "      <td>...</td>\n",
       "      <td>...</td>\n",
       "      <td>...</td>\n",
       "      <td>...</td>\n",
       "      <td>...</td>\n",
       "      <td>...</td>\n",
       "      <td>...</td>\n",
       "      <td>...</td>\n",
       "      <td>...</td>\n",
       "    </tr>\n",
       "    <tr>\n",
       "      <th>4995</th>\n",
       "      <td>536836</td>\n",
       "      <td>21843</td>\n",
       "      <td>RED RETROSPOT CAKE STAND</td>\n",
       "      <td>2</td>\n",
       "      <td>2010-12-02 18:08:00</td>\n",
       "      <td>10.95</td>\n",
       "      <td>18168.0</td>\n",
       "      <td>United Kingdom</td>\n",
       "      <td>21.90</td>\n",
       "    </tr>\n",
       "    <tr>\n",
       "      <th>4996</th>\n",
       "      <td>536836</td>\n",
       "      <td>21531</td>\n",
       "      <td>RED RETROSPOT SUGAR JAM BOWL</td>\n",
       "      <td>2</td>\n",
       "      <td>2010-12-02 18:08:00</td>\n",
       "      <td>2.55</td>\n",
       "      <td>18168.0</td>\n",
       "      <td>United Kingdom</td>\n",
       "      <td>5.10</td>\n",
       "    </tr>\n",
       "    <tr>\n",
       "      <th>4997</th>\n",
       "      <td>536836</td>\n",
       "      <td>21539</td>\n",
       "      <td>RED RETROSPOT BUTTER DISH</td>\n",
       "      <td>3</td>\n",
       "      <td>2010-12-02 18:08:00</td>\n",
       "      <td>4.95</td>\n",
       "      <td>18168.0</td>\n",
       "      <td>United Kingdom</td>\n",
       "      <td>14.85</td>\n",
       "    </tr>\n",
       "    <tr>\n",
       "      <th>4998</th>\n",
       "      <td>536836</td>\n",
       "      <td>22198</td>\n",
       "      <td>LARGE POPCORN HOLDER</td>\n",
       "      <td>2</td>\n",
       "      <td>2010-12-02 18:08:00</td>\n",
       "      <td>1.65</td>\n",
       "      <td>18168.0</td>\n",
       "      <td>United Kingdom</td>\n",
       "      <td>3.30</td>\n",
       "    </tr>\n",
       "    <tr>\n",
       "      <th>4999</th>\n",
       "      <td>536836</td>\n",
       "      <td>22197</td>\n",
       "      <td>SMALL POPCORN HOLDER</td>\n",
       "      <td>2</td>\n",
       "      <td>2010-12-02 18:08:00</td>\n",
       "      <td>0.85</td>\n",
       "      <td>18168.0</td>\n",
       "      <td>United Kingdom</td>\n",
       "      <td>1.70</td>\n",
       "    </tr>\n",
       "  </tbody>\n",
       "</table>\n",
       "<p>3795 rows × 9 columns</p>\n",
       "</div>"
      ],
      "text/plain": [
       "     InvoiceNo StockCode                          Description  Quantity  \\\n",
       "0       536365    85123A   WHITE HANGING HEART T-LIGHT HOLDER         6   \n",
       "1       536365     71053                  WHITE METAL LANTERN         6   \n",
       "2       536365    84406B       CREAM CUPID HEARTS COAT HANGER         8   \n",
       "3       536365    84029G  KNITTED UNION FLAG HOT WATER BOTTLE         6   \n",
       "4       536365    84029E       RED WOOLLY HOTTIE WHITE HEART.         6   \n",
       "...        ...       ...                                  ...       ...   \n",
       "4995    536836     21843             RED RETROSPOT CAKE STAND         2   \n",
       "4996    536836     21531         RED RETROSPOT SUGAR JAM BOWL         2   \n",
       "4997    536836     21539            RED RETROSPOT BUTTER DISH         3   \n",
       "4998    536836     22198                LARGE POPCORN HOLDER          2   \n",
       "4999    536836     22197                 SMALL POPCORN HOLDER         2   \n",
       "\n",
       "             InvoiceDate  UnitPrice  CustomerID         Country  Total Price  \n",
       "0    2010-12-01 08:26:00       2.55     17850.0  United Kingdom        15.30  \n",
       "1    2010-12-01 08:26:00       3.39     17850.0  United Kingdom        20.34  \n",
       "2    2010-12-01 08:26:00       2.75     17850.0  United Kingdom        22.00  \n",
       "3    2010-12-01 08:26:00       3.39     17850.0  United Kingdom        20.34  \n",
       "4    2010-12-01 08:26:00       3.39     17850.0  United Kingdom        20.34  \n",
       "...                  ...        ...         ...             ...          ...  \n",
       "4995 2010-12-02 18:08:00      10.95     18168.0  United Kingdom        21.90  \n",
       "4996 2010-12-02 18:08:00       2.55     18168.0  United Kingdom         5.10  \n",
       "4997 2010-12-02 18:08:00       4.95     18168.0  United Kingdom        14.85  \n",
       "4998 2010-12-02 18:08:00       1.65     18168.0  United Kingdom         3.30  \n",
       "4999 2010-12-02 18:08:00       0.85     18168.0  United Kingdom         1.70  \n",
       "\n",
       "[3795 rows x 9 columns]"
      ]
     },
     "execution_count": 98,
     "metadata": {},
     "output_type": "execute_result"
    }
   ],
   "source": [
    "df"
   ]
  },
  {
   "cell_type": "code",
   "execution_count": 106,
   "id": "ceb9299b-06de-4241-b28f-87d52ed2b1dd",
   "metadata": {},
   "outputs": [],
   "source": [
    "df[\"Year\"] = pd.to_datetime(df.InvoiceDate).dt.year\n",
    "df[\"Month\"] = pd.to_datetime(df.InvoiceDate).dt.month \n",
    "# pd.to_datetime(df.InvoiceDate).dt.day \n"
   ]
  },
  {
   "cell_type": "code",
   "execution_count": 109,
   "id": "33806f95-45f2-451d-9b13-155df68df963",
   "metadata": {},
   "outputs": [
    {
     "data": {
      "text/plain": [
       "Year\n",
       "2010    3795\n",
       "Name: count, dtype: int64"
      ]
     },
     "execution_count": 109,
     "metadata": {},
     "output_type": "execute_result"
    }
   ],
   "source": [
    "df.Year.value_counts()"
   ]
  },
  {
   "cell_type": "code",
   "execution_count": null,
   "id": "26356ef7-732e-4ad0-996b-9651a0b922c8",
   "metadata": {},
   "outputs": [],
   "source": []
  },
  {
   "cell_type": "code",
   "execution_count": null,
   "id": "56e88a54-b79c-4395-9985-9c58cfd900ae",
   "metadata": {},
   "outputs": [],
   "source": []
  },
  {
   "cell_type": "code",
   "execution_count": null,
   "id": "88c94eff-ee8f-4faa-bcde-0b53744110a6",
   "metadata": {},
   "outputs": [],
   "source": []
  }
 ],
 "metadata": {
  "kernelspec": {
   "display_name": "Python 3 (ipykernel)",
   "language": "python",
   "name": "python3"
  },
  "language_info": {
   "codemirror_mode": {
    "name": "ipython",
    "version": 3
   },
   "file_extension": ".py",
   "mimetype": "text/x-python",
   "name": "python",
   "nbconvert_exporter": "python",
   "pygments_lexer": "ipython3",
   "version": "3.10.12"
  }
 },
 "nbformat": 4,
 "nbformat_minor": 5
}
